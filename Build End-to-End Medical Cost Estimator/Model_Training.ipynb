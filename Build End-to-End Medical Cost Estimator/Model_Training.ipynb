{
 "cells": [
  {
   "cell_type": "code",
   "execution_count": null,
   "metadata": {},
   "outputs": [],
   "source": [
    "import pandas as pd\n",
    "import numpy as np\n",
    "from sklearn.model_selection import train_test_split\n",
    "from sklearn.preprocessing import StandardScaler, OneHotEncoder\n",
    "from sklearn.compose import ColumnTransformer\n",
    "from sklearn.pipeline import Pipeline\n",
    "from sklearn.linear_model import LinearRegression, Ridge, Lasso\n",
    "from sklearn.ensemble import RandomForestRegressor\n",
    "from sklearn.svm import SVR\n",
    "from xgboost import XGBRegressor\n",
    "from sklearn.metrics import mean_absolute_error, mean_squared_error, r2_score\n",
    "import joblib\n",
    "import shap"
   ]
  },
  {
   "cell_type": "code",
   "execution_count": null,
   "metadata": {},
   "outputs": [],
   "source": [
    "# Load preprocessed data (assuming Data_Preprocessing.ipynb has been run and saved)\n",
    "df = pd.read_csv(\'../data/insurance.csv\')\n",
    "X = df.drop(\'charges\', axis=1)\n",
    "y = df[\'charges\']\n",
    "\n",
    "preprocessor = joblib.load(\'../models/preprocessor.pkl\')\n",
    "X_processed = preprocessor.transform(X)\n",
    "\n",
    "X_train, X_test, y_train, y_test = train_test_split(X_processed, y, test_size=0.2, random_state=42)"
   ]
  },
  {
   "cell_type": "code",
   "execution_count": null,
   "metadata": {},
   "outputs": [],
   "source": [
    "# Define models\n",
    "models = {\n",
    "    \"Linear Regression\": LinearRegression(),\n",
    "    \"Ridge\": Ridge(),\n",
    "    \"Lasso\": Lasso(),\n",
    "    \"Random Forest\": RandomForestRegressor(random_state=42),\n",
    "    \"XGBoost\": XGBRegressor(random_state=42),\n",
    "    \"SVR\": SVR()\n",
    "}"
   ]
  },
  {
   "cell_type": "code",
   "execution_count": null,
   "metadata": {},
   "outputs": [],
   "source": [
    "# Train and evaluate models\n",
    "results = {}\n",
    "best_model = None\n",
    "best_r2 = -np.inf\n",
    "\n",
    "for name, model in models.items():\n",
    "    print(f\"Training {name}...\")\n",
    "    model.fit(X_train, y_train)\n",
    "    y_pred = model.predict(X_test)\n",
    "    \n",
    "    mae = mean_absolute_error(y_test, y_pred)\n",
    "    rmse = np.sqrt(mean_squared_error(y_test, y_pred))\n",
    "    r2 = r2_score(y_test, y_pred)\n",
    "    \n",
    "    results[name] = {\n",
    "        \"MAE\": mae,\n",
    "        \"RMSE\": rmse,\n",
    "        \"R2 Score\": r2\n",
    "    }\n",
    "    \n",
    "    if r2 > best_r2:\n",
    "        best_r2 = r2\n",
    "        best_model = model\n",
    "        best_model_name = name\n",
    "\n",
    "print(\"\nModel Evaluation Results:\")\n",
    "for name, metrics in results.items():\n",
    "    print(f\"--- {name} ---\")\n",
    "    for metric, value in metrics.items():\n",
    "        print(f\"  {metric}: {value:.2f}\")\n",
    "\n",
    "print(f\"\nBest performing model: {best_model_name} with R2 Score: {best_r2:.2f}\")"
   ]
  },
  {
   "cell_type": "code",
   "execution_count": null,
   "metadata": {},
   "outputs": [],
   "source": [
    "# Save the best model\n",
    "if best_model:\n",
    "    joblib.dump(best_model, \"../models/final_model.pkl\")\n",
    "    print(f\"Best model ({best_model_name}) saved to ../models/final_model.pkl\")"
   ]
  },
  {
   "cell_type": "code",
   "execution_count": null,
   "metadata": {},
   "outputs": [],
   "source": [
    "# SHAP Interpretability for the best model\n",
    "if best_model:\n",
    "    print(f\"\nGenerating SHAP explanations for {best_model_name}...\")\n",
    "    explainer = shap.TreeExplainer(best_model) # Use TreeExplainer for tree-based models\n",
    "    shap_values = explainer.shap_values(X_test)\n",
    "    \n",
    "    # If the model is not tree-based, use KernelExplainer (slower)\n",
    "    # if not isinstance(best_model, (RandomForestRegressor, XGBRegressor)):\n",
    "    #     explainer = shap.KernelExplainer(best_model.predict, X_train)\n",
    "    #     shap_values = explainer.shap_values(X_test)\n",
    "\n",
    "    # Visualize the first prediction\n",
    "    shap.summary_plot(shap_values, X_test, feature_names=preprocessor.get_feature_names_out())"
   ]
  }
 ],
 "metadata": {
  "kernelspec": {
   "display_name": "Python 3 (ipykernel)",
   "language": "python",
   "name": "python3"
  },
  "language_info": {
   "codemirror_mode": {
    "name": "ipython",
    "version": 3
   },
   "file_extension": ".py",
   "mimetype": "text/x-python",
   "name": "python",
   "nbconvert_exporter": "python",
   "pygments_lexer": "ipython3",
   "version": "3.11"
  }
 },
 "nbformat": 4,
 "nbformat_minor": 5
}


