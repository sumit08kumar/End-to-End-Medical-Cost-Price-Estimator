{
 "cells": [
  {
   "cell_type": "code",
   "execution_count": null,
   "metadata": {},
   "outputs": [],
   "source": [
    "import pandas as pd\n",
    "import numpy as np\n",
    "import matplotlib.pyplot as plt\n",
    "import seaborn as sns\n",
    "%matplotlib inline"
   ]
  },
  {
   "cell_type": "code",
   "execution_count": null,
   "metadata": {},
   "outputs": [],
   "source": [
    "df = pd.read_csv(\'../data/insurance.csv\')\n",
    "df.head()"
   ]
  },
  {
   "cell_type": "code",
   "execution_count": null,
   "metadata": {},
   "outputs": [],
   "source": [
    "df.info()"
   ]
  },
  {
   "cell_type": "code",
   "execution_count": null,
   "metadata": {},
   "outputs": [],
   "source": [
    "df.describe()"
   ]
  },
  {
   "cell_type": "code",
   "execution_count": null,
   "metadata": {},
   "outputs": [],
   "source": [
    "# Check for missing values\n",
    "df.isnull().sum()"
   ]
  },
  {
   "cell_type": "code",
   "execution_count": null,
   "metadata": {},
   "outputs": [],
   "source": [
    "# Distribution of \'charges\'\n",
    "plt.figure(figsize=(10, 6))\n",
    "sns.histplot(df[\'charges\'], kde=True)\n",
    "plt.title(\'Distribution of Medical Charges\')\n",
    "plt.show()"
   ]
  },
  {
   "cell_type": "code",
   "execution_count": null,
   "metadata": {},
   "outputs": [],
   "source": [
    "# Distribution of \'age\'\n",
    "plt.figure(figsize=(10, 6))\n",
    "sns.histplot(df[\'age\'], kde=True)\n",
    "plt.title(\'Distribution of Age\')\n",
    "plt.show()"
   ]
  },
  {
   "cell_type": "code",
   "execution_count": null,
   "metadata": {},
   "outputs": [],
   "source": [
    "# Distribution of \'bmi\'\n",
    "plt.figure(figsize=(10, 6))\n",
    "sns.histplot(df[\'bmi\'], kde=True)\n",
    "plt.title(\'Distribution of BMI\')\n",
    "plt.show()"
   ]
  },
  {
   "cell_type": "code",
   "execution_count": null,
   "metadata": {},
   "outputs": [],
   "source": [
    "# Categorical features: \'sex\', \'smoker\', \'region\'\n",
    "fig, axes = plt.subplots(1, 3, figsize=(18, 6))\n",
    "sns.countplot(x=\'sex\', data=df, ax=axes[0])\n",
    "axes[0].set_title(\'Sex Distribution\')\n",
    "sns.countplot(x=\'smoker\', data=df, ax=axes[1])\n",
    "axes[1].set_title(\'Smoker Distribution\')\n",
    "sns.countplot(x=\'region\', data=df, ax=axes[2])\n",
    "axes[2].set_title(\'Region Distribution\')\n",
    "plt.tight_layout()\n",
    "plt.show()"
   ]
  },
  {
   "cell_type": "code",
   "execution_count": null,
   "metadata": {},
   "outputs": [],
   "source": [
    "# Relationship between \'smoker\' and \'charges\'\n",
    "plt.figure(figsize=(8, 6))\n",
    "sns.boxplot(x=\'smoker\', y=\'charges\', data=df)\n",
    "plt.title(\'Charges by Smoker Status\')\n",
    "plt.show()"
   ]
  },
  {
   "cell_type": "code",
   "execution_count": null,
   "metadata": {},
   "outputs": [],
   "source": [
    "# Relationship between \'bmi\' and \'charges\'\n",
    "plt.figure(figsize=(10, 6))\n",
    "sns.scatterplot(x=\'bmi\', y=\'charges\', data=df)\n",
    "plt.title(\'Charges vs. BMI\')\n",
    "plt.show()"
   ]
  },
  {
   "cell_type": "code",
   "execution_count": null,
   "metadata": {},
   "outputs": [],
   "source": [
    "# Correlation heatmap\n",
    "plt.figure(figsize=(10, 8))\n",
    "sns.heatmap(df.corr(numeric_only=True), annot=True, cmap=\'coolwarm\')\n",
    "plt.title(\'Correlation Matrix\')\n",
    "plt.show()"
   ]
  }
 ],
 "metadata": {
  "kernelspec": {
   "display_name": "Python 3 (ipykernel)",
   "language": "python",
   "name": "python3"
  },
  "language_info": {
   "codemirror_mode": {
    "name": "ipython",
    "version": 3
   },
   "file_extension": ".py",
   "mimetype": "text/x-python",
   "name": "python",
   "nbconvert_exporter": "python",
   "pygments_lexer": "ipython3",
   "version": "3.11.0"
  }
 },
 "nbformat": 4,
 "nbformat_minor": 5
}

